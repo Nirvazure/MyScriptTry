{
 "cells": [
  {
   "cell_type": "markdown",
   "metadata": {},
   "source": [
    " ## Python面向对象"
   ]
  },
  {
   "cell_type": "markdown",
   "metadata": {},
   "source": [
    "### 类"
   ]
  },
  {
   "cell_type": "markdown",
   "metadata": {},
   "source": [
    "注意区分类变量和对象变量\n",
    "self和java中的this关键字类似，其实self不是保留字，可以被其他你自己的定义的字符替代"
   ]
  },
  {
   "cell_type": "code",
   "execution_count": 1,
   "metadata": {},
   "outputs": [
    {
     "name": "stdout",
     "output_type": "stream",
     "text": [
      "hello my name is123\n",
      "my age is0\n"
     ]
    }
   ],
   "source": [
    "class Player():\n",
    "    name = '123'\n",
    "    age = 0\n",
    "    def myBio(self):\n",
    "        print('hello my name is' + self.name)\n",
    "        print('my age is' + str(self.age))\n",
    "\n",
    "player = Player()\n",
    "player.myBio()"
   ]
  },
  {
   "cell_type": "markdown",
   "metadata": {},
   "source": [
    "Python不需要new关键字实例化对象，构造函数是实例化对象的时候自动调用的，虽然它也可以显式去调用，但不推荐这么做，约定俗成为__init__()"
   ]
  },
  {
   "cell_type": "markdown",
   "metadata": {},
   "source": [
    "类的作用就是封装一系列的变量和函数，类一般只会去负责定义一些东西，不要尝试直接在类里面调用方法，类只定义方法，面向对象着重在于对客观世界的一种描述"
   ]
  },
  {
   "cell_type": "code",
   "execution_count": null,
   "metadata": {},
   "outputs": [],
   "source": []
  }
 ],
 "metadata": {
  "kernelspec": {
   "display_name": "Python 3",
   "language": "python",
   "name": "python3"
  },
  "language_info": {
   "codemirror_mode": {
    "name": "ipython",
    "version": 3
   },
   "file_extension": ".py",
   "mimetype": "text/x-python",
   "name": "python",
   "nbconvert_exporter": "python",
   "pygments_lexer": "ipython3",
   "version": "3.6.5"
  }
 },
 "nbformat": 4,
 "nbformat_minor": 2
}
