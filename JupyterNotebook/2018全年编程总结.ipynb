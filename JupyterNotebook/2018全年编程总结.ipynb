{
 "cells": [
  {
   "cell_type": "markdown",
   "metadata": {},
   "source": [
    "### 小技巧篇"
   ]
  },
  {
   "cell_type": "markdown",
   "metadata": {},
   "source": [
    "1. print格式化输出(print里面用花括号隔开)"
   ]
  },
  {
   "cell_type": "code",
   "execution_count": 1,
   "metadata": {},
   "outputs": [
    {
     "name": "stdout",
     "output_type": "stream",
     "text": [
      "10,24\n"
     ]
    }
   ],
   "source": [
    "a=10\n",
    "b=23\n",
    "print('{},{}'.format(a,b+1))"
   ]
  },
  {
   "cell_type": "markdown",
   "metadata": {},
   "source": [
    "    print(a,b)中间可以用逗号分隔"
   ]
  },
  {
   "cell_type": "code",
   "execution_count": 4,
   "metadata": {},
   "outputs": [
    {
     "name": "stdout",
     "output_type": "stream",
     "text": [
      "12 13\n"
     ]
    }
   ],
   "source": [
    "a=12\n",
    "b=13\n",
    "print(a,b)"
   ]
  },
  {
   "cell_type": "markdown",
   "metadata": {},
   "source": [
    "2. 使用input()函数进行调试"
   ]
  },
  {
   "cell_type": "code",
   "execution_count": 2,
   "metadata": {},
   "outputs": [
    {
     "name": "stdout",
     "output_type": "stream",
     "text": [
      "waiting user input\n",
      "\n",
      "continued\n"
     ]
    }
   ],
   "source": [
    "print('waiting user input')\n",
    "input()\n",
    "print('continued')"
   ]
  },
  {
   "cell_type": "markdown",
   "metadata": {},
   "source": [
    "3. 使用.gitignore文件在版本控制中精简版本控制\n",
    "    详情可参照相应的github版本库"
   ]
  },
  {
   "cell_type": "markdown",
   "metadata": {},
   "source": [
    "4. 函数注释的写法"
   ]
  },
  {
   "cell_type": "markdown",
   "metadata": {},
   "source": [
    "round(a,6)\n",
    "series.round(6)\n",
    "#这里要注意return一个值\n",
    "\n",
    "series.astype('int')\n",
    "series.replace([old1,old2,old_i],[new1,new2,new_i])\n",
    "series.drop(index=None,mode='a')\n",
    "df7=df1[~df1['plate'].isin(list_no1)]\n",
    "df=df1[['1','2']]\n",
    "series=df1['1']\n",
    "series=pd.isnull(series)\n",
    "df2=df2[df2['plate'].isin(df1['plate'])]"
   ]
  },
  {
   "cell_type": "code",
   "execution_count": 1,
   "metadata": {},
   "outputs": [],
   "source": [
    "def myFunction(arg1,arg2):\n",
    "    \"\"\"Function summary here\n",
    "    Args:\n",
    "        arg1: arg1 summary.\n",
    "        arg2: arg2 summary\n",
    "    Returns:return summary\n",
    "    Raises:ex info.\n",
    "    \"\"\"\n",
    "    return arg1+args2"
   ]
  },
  {
   "cell_type": "markdown",
   "metadata": {},
   "source": [
    "### Pandas篇"
   ]
  },
  {
   "cell_type": "markdown",
   "metadata": {},
   "source": [
    "1. GroupBy对象"
   ]
  },
  {
   "cell_type": "markdown",
   "metadata": {},
   "source": [
    "2. apply方法"
   ]
  },
  {
   "cell_type": "markdown",
   "metadata": {},
   "source": [
    "series.apply(lambda x:func(x))"
   ]
  },
  {
   "cell_type": "code",
   "execution_count": null,
   "metadata": {},
   "outputs": [],
   "source": []
  }
 ],
 "metadata": {
  "kernelspec": {
   "display_name": "Python 3",
   "language": "python",
   "name": "python3"
  },
  "language_info": {
   "codemirror_mode": {
    "name": "ipython",
    "version": 3
   },
   "file_extension": ".py",
   "mimetype": "text/x-python",
   "name": "python",
   "nbconvert_exporter": "python",
   "pygments_lexer": "ipython3",
   "version": "3.6.5"
  }
 },
 "nbformat": 4,
 "nbformat_minor": 2
}
