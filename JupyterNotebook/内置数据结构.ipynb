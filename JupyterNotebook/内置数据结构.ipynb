{
 "cells": [
  {
   "cell_type": "markdown",
   "metadata": {},
   "source": [
    "# Python 内置数据结构"
   ]
  },
  {
   "cell_type": "markdown",
   "metadata": {},
   "source": [
    "### 列表\n",
    "定义声明一个列表"
   ]
  },
  {
   "cell_type": "code",
   "execution_count": null,
   "metadata": {},
   "outputs": [],
   "source": [
    "vowel=['a','e','i','o','u']"
   ]
  },
  {
   "cell_type": "markdown",
   "metadata": {},
   "source": [
    "也可以先声明为空，然后动态添加元组进去"
   ]
  },
  {
   "cell_type": "code",
   "execution_count": 3,
   "metadata": {},
   "outputs": [
    {
     "data": {
      "text/plain": [
       "0"
      ]
     },
     "execution_count": 3,
     "metadata": {},
     "output_type": "execute_result"
    }
   ],
   "source": [
    "found=[]\n",
    "len(found)"
   ]
  },
  {
   "cell_type": "code",
   "execution_count": 4,
   "metadata": {},
   "outputs": [
    {
     "name": "stdout",
     "output_type": "stream",
     "text": [
      "1\n",
      "['a']\n"
     ]
    }
   ],
   "source": [
    "found.append(\"a\")\n",
    "print(len(found))\n",
    "print(found)"
   ]
  },
  {
   "cell_type": "code",
   "execution_count": 6,
   "metadata": {},
   "outputs": [
    {
     "data": {
      "text/plain": [
       "['a', 'e', 'i', 'o', 'u', 'e', 'i', 'o', 'u']"
      ]
     },
     "execution_count": 6,
     "metadata": {},
     "output_type": "execute_result"
    }
   ],
   "source": [
    "found.append(\"e\")\n",
    "found.append(\"i\")\n",
    "found.append(\"o\")\n",
    "found.append(\"u\")\n",
    "found"
   ]
  },
  {
   "cell_type": "markdown",
   "metadata": {},
   "source": [
    "如果上面的代码运行两次就会变成这样\n",
    "这时的一个解决方法就是判断对象是否在列表中，如果在就不进行重复添加了\n",
    "不过这里最好的方法还是直接使用集合的数据结构"
   ]
  },
  {
   "cell_type": "code",
   "execution_count": 7,
   "metadata": {},
   "outputs": [],
   "source": [
    "if 'u' not in found:\n",
    "    found.append('u')"
   ]
  },
  {
   "cell_type": "markdown",
   "metadata": {},
   "source": [
    "一个综合的例子"
   ]
  },
  {
   "cell_type": "markdown",
   "metadata": {},
   "source": [
    "Python提供了切片（Slice）操作符"
   ]
  },
  {
   "cell_type": "code",
   "execution_count": 1,
   "metadata": {},
   "outputs": [],
   "source": [
    "YQYMONs_members=['YQYMONs.Darkrai','YQYMONs.Mewtwo','YQYMONs.Pikachu','YQYMONs.Unown','YQYMONs.Celeby','YQYMONs.Peiqi','YQYMONs.Arecues']"
   ]
  },
  {
   "cell_type": "code",
   "execution_count": 6,
   "metadata": {},
   "outputs": [
    {
     "name": "stdout",
     "output_type": "stream",
     "text": [
      "['YQYMONs.Darkrai', 'YQYMONs.Mewtwo', 'YQYMONs.Pikachu']\n",
      "['YQYMONs.Darkrai', 'YQYMONs.Mewtwo', 'YQYMONs.Pikachu', 'YQYMONs.Unown']\n",
      "['YQYMONs.Celeby', 'YQYMONs.Peiqi']\n",
      "['YQYMONs.Mewtwo', 'YQYMONs.Unown', 'YQYMONs.Peiqi']\n"
     ]
    }
   ],
   "source": [
    "print(YQYMONs_members[0:3])\n",
    "print(YQYMONs_members[:4])\n",
    "print(YQYMONs_members[-3:-1])\n",
    "print(YQYMONs_members[1:8:2])"
   ]
  },
  {
   "cell_type": "markdown",
   "metadata": {},
   "source": [
    "负数代表倒序切片，切片可以轻松抽取一段序列，前几个数字，从几到几的数，最后几个数都可以,最后一个参数是步长"
   ]
  },
  {
   "cell_type": "markdown",
   "metadata": {},
   "source": [
    "tuple同样也可以进行切片操作，其结果仍然是tuple"
   ]
  },
  {
   "cell_type": "code",
   "execution_count": 9,
   "metadata": {},
   "outputs": [
    {
     "data": {
      "text/plain": [
       "(0, 4, 8, 9)"
      ]
     },
     "execution_count": 9,
     "metadata": {},
     "output_type": "execute_result"
    }
   ],
   "source": [
    "(0,2,4,6,8,7,9)[0:7:2]"
   ]
  },
  {
   "cell_type": "code",
   "execution_count": null,
   "metadata": {},
   "outputs": [],
   "source": []
  }
 ],
 "metadata": {
  "kernelspec": {
   "display_name": "Python 3",
   "language": "python",
   "name": "python3"
  },
  "language_info": {
   "codemirror_mode": {
    "name": "ipython",
    "version": 3
   },
   "file_extension": ".py",
   "mimetype": "text/x-python",
   "name": "python",
   "nbconvert_exporter": "python",
   "pygments_lexer": "ipython3",
   "version": "3.6.5"
  }
 },
 "nbformat": 4,
 "nbformat_minor": 2
}
