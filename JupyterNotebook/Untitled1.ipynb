{
 "cells": [
  {
   "cell_type": "markdown",
   "metadata": {},
   "source": [
    "我的一些Python尝试"
   ]
  },
  {
   "cell_type": "code",
   "execution_count": 1,
   "metadata": {},
   "outputs": [
    {
     "ename": "SyntaxError",
     "evalue": "(unicode error) 'unicodeescape' codec can't decode bytes in position 2-3: truncated \\UXXXXXXXX escape (<ipython-input-1-8ff02079da21>, line 3)",
     "output_type": "error",
     "traceback": [
      "\u001b[1;36m  File \u001b[1;32m\"<ipython-input-1-8ff02079da21>\"\u001b[1;36m, line \u001b[1;32m3\u001b[0m\n\u001b[1;33m    f_list=os.listdir('c:\\Users\\Administrator\\Desktop\\TTTT\\NISAN')\u001b[0m\n\u001b[1;37m                     ^\u001b[0m\n\u001b[1;31mSyntaxError\u001b[0m\u001b[1;31m:\u001b[0m (unicode error) 'unicodeescape' codec can't decode bytes in position 2-3: truncated \\UXXXXXXXX escape\n"
     ]
    }
   ],
   "source": [
    "import os\n",
    "import random\n",
    "f_list=os.listdir('c:\\Users\\Administrator\\Desktop\\TTTT\\NISAN')\n",
    "a=random.randint(100000,999999)\n",
    "oldpath='d:/工作/myd_test/car7/'\n",
    "newpath='d:/工作/myd_test/car7/'\n",
    "\n",
    "for name in f_list:\n",
    "    a=random.randint(1000000,9999990)\n",
    "    os.renames(oldpath+name,newpath+'20180905_video_'+str(a)+'_car_7.jpg')\n",
    "print('done!')"
   ]
  },
  {
   "cell_type": "markdown",
   "metadata": {},
   "source": [
    "肯定运行不了"
   ]
  },
  {
   "cell_type": "code",
   "execution_count": null,
   "metadata": {},
   "outputs": [],
   "source": []
  }
 ],
 "metadata": {
  "kernelspec": {
   "display_name": "Python 3",
   "language": "python",
   "name": "python3"
  },
  "language_info": {
   "codemirror_mode": {
    "name": "ipython",
    "version": 3
   },
   "file_extension": ".py",
   "mimetype": "text/x-python",
   "name": "python",
   "nbconvert_exporter": "python",
   "pygments_lexer": "ipython3",
   "version": "3.6.5"
  }
 },
 "nbformat": 4,
 "nbformat_minor": 2
}
